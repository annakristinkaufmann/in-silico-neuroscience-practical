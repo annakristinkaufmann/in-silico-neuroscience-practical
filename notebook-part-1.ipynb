{
 "cells": [
  {
   "cell_type": "markdown",
   "metadata": {},
   "source": [
    "<a href=\"figures/Nexus_logo_800px.png\" target=\"_blank\"><img src=\"figures/Nexus_logo_800px.png\" \n",
    "width=\"150\" border=\"10\" /></a>"
   ]
  },
  {
   "cell_type": "markdown",
   "metadata": {},
   "source": [
    "# Blue Brain Nexus - A knowledge graph for data-driven science - Part 1\n",
    "\n",
    "##  1 - General introduction\n",
    "\n",
    "\n",
    "### 1-1 Challenges of data management in neuroscience\n",
    "\n",
    "Neuroscience - like many other scientific fields - produces a vast amount of data. It is important to enable good data management to support scientific discovery. Some of the challenges of data management include:\n",
    "\n",
    "* Heterogeneity of data (e.g. morphology reconstructions, electrophysiology recordings, whole-brain imaging, simulations, validations)\n",
    "* Varying size of datasets (small to large)\n",
    "* Data is often stored in distributed silos (lab servers, personal computers, dropbox, google drive)\n",
    "* Data provenance is often not easily accessible (metadata kept in different spreadsheets, hand-written labbooks, not captured)\n",
    "\n",
    "&rightarrow; **Discovery of similar and related data across silos is hard!**\n",
    "\n",
    "\n",
    "###  1-2 The FAIR Data Principles\n",
    "\n",
    "The FAIR Guiding Principles. were defined to help the scientific community in implementing good data management. The acronym stands for: **Findability, Accessibility, Interoperability, and Reusability**. They are a set of principles intended to help enhance the reusability of scientific data with specific emphasis on usability of data by both machines and humans. \n",
    "\n",
    "* FAIR Data Principles: https://www.nature.com/articles/sdata201618\n",
    "\n",
    "###  1-3 What is Nexus?\n",
    "\n",
    "#### Nexus is...\n",
    "\n",
    "* A data repository\n",
    "* A metadata catalog\n",
    "* A semantic search engine\n",
    "\n",
    "At the core of Blue Brain Nexus lies a knowledge graph [(What is a knowledge graph?)](https://hackernoon.com/wtf-is-a-knowledge-graph-a16603a1a25f). The Nexus KnowledgeGraph operates on **4 types** of resources: **Organizations, Domains, Schemas** and **Instances**, nested as described in the diagram below:\n",
    "\n",
    "<a href=\"figures/nexus-kg-resources.png\" target=\"_blank\"><img src=\"figures/nexus-kg-resources.png\" \n",
    "width=\"500\" border=\"10\" /></a>\n",
    "\n",
    "\n",
    "The Nexus KnowledgeGraph exposes a RESTful interface over HTTP(S). The generally adopted transport format is **JSON-LD**. All resources in the system generally follow the very same lifecycle (see diagram below). Changes to the data (creation, updates, state changes) are recorded into the system as **revisions**.\n",
    "\n",
    "<a href=\"figures/nexus-kg-resource-lifecycle.png\" target=\"_blank\"><img src=\"figures/nexus-kg-resource-lifecycle.png\" \n",
    "width=\"500\" border=\"10\" /></a>\n",
    "\n",
    "#### Nexus resources\n",
    "\n",
    "* Nexus on Github: https://github.com/BlueBrain/nexus\n",
    "* Nexus API documentation: https://bbp-nexus.epfl.ch/dev/docs/kg/index.html\n",
    "\n",
    "\n",
    "## 2 - Learning objectives of practical:\n",
    "\n",
    "### Part 1 (45')\n",
    "\n",
    "**From a concrete use case learn to**\n",
    "\n",
    "* Identify and define entities\n",
    "* Relate them through simple provenance\n",
    "* Extend the provided schemas for the identified entities\n",
    "* Prepare payloads (data) for individual entities\n",
    "\n",
    "\n",
    "### Part 2 (45')\n",
    "\n",
    "**Using Blue Brain Nexus and Pyxus, learn how to**\n",
    "\n",
    "* Create organisation on Nexus\n",
    "* Create domain on Nexus\n",
    "* Secure organisation\n",
    "* Create and publish schemas of identified entities\n",
    "* Create entities on Nexus using prepared payloads\n",
    "* Attach file to entity and manage the revisions of the entity\n",
    "* Filter for relevant data\n",
    "\n",
    "\n",
    "## 3 - Use case\n",
    "\n",
    "Amy is a computational neuroscientist working with single cell models of the somatosensory cortex. Her model uses experimental data collected by Brian, an experimental neuroscientist using *in vitro* patch-clamp recording techniques for his research, producing both electrophysiology as well as morphology data. To facilitate access to the data for Amy, Brian wants to use Blue Brain Nexus to integrate it (both files and respective metadata). This is an example page taken from **Brian's labbook** containing the relevant metadata of the experiment he wants to make available to Amy t Blue Brain Nexus:\n",
    "\n",
    "<a href=\"figures/labbook.png\" target=\"_blank\"><img src=\"figures/labbook.png\" \n",
    "width=\"1000\" border=\"10\" /></a>"
   ]
  },
  {
   "cell_type": "markdown",
   "metadata": {},
   "source": [
    "\n",
    "## 4 - Exercises Part 1\n",
    "\n",
    "### 4-0 From data in the lab to data in Nexus\n",
    "\n",
    "The figure below shows some essential steps for creating a data model (left column), what this would look like for a concrete example (middle column) and how the data model is represented in Nexus:\n",
    "\n",
    "<a href=\"figures/in-silico-neuroscience-course-graphic.png\" target=\"_blank\"><img src=\"figures/in-silico-neuroscience-course-graphic.png\" \n",
    "width=\"1000\" border=\"10\" /></a>\n",
    "\n",
    "### 4-1 Identify and define the entities presented in the use case\n",
    "\n",
    "* Use Brian's labbook entry to identfiy three entities of relevance in his experiment \n",
    "* Identify the metadata fields associated with the three entities \n",
    "* Relate the three entities using the provenance relation **wasDerivedFrom** (http://www.w3.org/ns/prov#wasDerivedFrom)"
   ]
  },
  {
   "cell_type": "markdown",
   "metadata": {},
   "source": [
    "### 4-2 Inspect and extend the provided SHACL schemas\n",
    "\n",
    "If you want to a data instance of e.g. a subject like a rat in Nexus, it is important to know exactly how that data instance of a subject should be organised, what metadata properties it should come with, which of those are optional (e.g. the weight of the subjcet, because the information is not always available) and which of them should be required (e.g. the species the subject belongs to). This is where schemas come into place: Schemas define properties an entity has and help further constrain them. In the case of Nexus, schemas are written in the so-called **Shapes Constraint Language** (SHACL): https://www.w3.org/TR/shacl/ and stored in JSON-LD format. \n",
    "\n",
    "**Use the online JSON editor (accessible through the links below) to** \n",
    "* inspect the provided schemas for **Subject, Neuron and Dataset**\n",
    "* familiarise yourself with the structure of the schemas and the properties provided \n",
    "* extend the Subject schema with a property \"strain\"\n",
    "\n",
    "[Subject schema](https://jsoneditoronline.org/?id=c6745518a8e5414d70b74059f09f6fcb)\n",
    "\n",
    "[Neuron schema](https://jsoneditoronline.org/?id=c6745518a8e5414d70b74059f0b059b3)\n",
    "\n",
    "[Dataset schema](https://jsoneditoronline.org/?id=ab204158e246b767c827f7b505d555a9)\n"
   ]
  },
  {
   "cell_type": "markdown",
   "metadata": {},
   "source": [
    "### 4-3 Prepare the payloads (data) of the individual entities\n",
    "\n",
    "Now that you have familiarised yourself with the SHACL schemas for the three entity types Subject, Neuron and Dataset, you can create data examples using the online JSON editor with the data taken from Brian's labbook:\n",
    "\n",
    "**Use the online JSON editor to complete the data examples for Subject, Neuron and Dataset**\n",
    "\n",
    "[Subject metadata](https://jsoneditoronline.org/?id=74d090a43654d2fb720c231395351736)\n",
    "\n",
    "[Neuron metadata](https://jsoneditoronline.org/?id=31db2a690512ec8fd7afa9111662493b)\n",
    "\n",
    "[Dataset metadata](https://jsoneditoronline.org/?id=a679385b81c01fe4d9f1ed5915aeffff)"
   ]
  },
  {
   "cell_type": "markdown",
   "metadata": {},
   "source": [
    "### 4-4 Test your data against the schemas using the SHACL playground"
   ]
  },
  {
   "cell_type": "markdown",
   "metadata": {},
   "source": [
    "Copy-paste the schema with its respective data example into the SHACL playground and look at the validation report: http://shacl.org/playground/ (the SHACL schema should be pasted into the 'Shapes graph' window and the data example into the 'Data graph' window). See how the validation report changes if you make changes to your data graph!"
   ]
  }
 ],
 "metadata": {
  "kernelspec": {
   "display_name": "Python 3",
   "language": "python",
   "name": "python3"
  },
  "language_info": {
   "codemirror_mode": {
    "name": "ipython",
    "version": 3
   },
   "file_extension": ".py",
   "mimetype": "text/x-python",
   "name": "python",
   "nbconvert_exporter": "python",
   "pygments_lexer": "ipython3",
   "version": "3.6.1"
  }
 },
 "nbformat": 4,
 "nbformat_minor": 2
}
