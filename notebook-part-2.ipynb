{
 "cells": [
  {
   "cell_type": "markdown",
   "metadata": {},
   "source": [
    "<a href=\"figures/Nexus_logo_800px.png\" target=\"_blank\"><img src=\"figures/Nexus_logo_800px.png\" \n",
    "width=\"150\" border=\"10\" /></a>"
   ]
  },
  {
   "cell_type": "markdown",
   "metadata": {},
   "source": [
    "# Blue Brain Nexus - A knowledge graph for data-driven science"
   ]
  },
  {
   "cell_type": "markdown",
   "metadata": {},
   "source": [
    "## 5 - Exercises Part 2"
   ]
  },
  {
   "cell_type": "markdown",
   "metadata": {},
   "source": [
    "### 5-0 Import of relevant Pyxus classes and client setup"
   ]
  },
  {
   "cell_type": "code",
   "execution_count": 39,
   "metadata": {},
   "outputs": [],
   "source": [
    "import requests\n",
    "import yaml\n",
    "from pyxus.client import NexusClient\n",
    "from pyxus.resources.entity import Organization\n",
    "from pyxus.resources.entity import Domain\n",
    "from pyxus.resources.entity import Schema\n",
    "from pyxus.resources.entity import Instance"
   ]
  },
  {
   "cell_type": "code",
   "execution_count": 2,
   "metadata": {},
   "outputs": [],
   "source": [
    "client = NexusClient(scheme=\"https\", host=\"bbp-nexus.epfl.ch\", prefix=\"staging/v0\", alternative_namespace=\"https://bbp-nexus.epfl.ch\")"
   ]
  },
  {
   "cell_type": "code",
   "execution_count": 3,
   "metadata": {},
   "outputs": [
    {
     "name": "stdout",
     "output_type": "stream",
     "text": [
      "<pyxus.resources.repository.OrganizationRepository object at 0x1102660f0>\n",
      "<pyxus.resources.repository.DomainRepository object at 0x110266080>\n",
      "<pyxus.resources.repository.SchemaRepository object at 0x110266160>\n",
      "<pyxus.resources.repository.InstanceRepository object at 0x110266128>\n"
     ]
    }
   ],
   "source": [
    "print(client.organizations)\n",
    "print(client.domains)\n",
    "print(client.schemas)\n",
    "print(client.instances)"
   ]
  },
  {
   "cell_type": "markdown",
   "metadata": {},
   "source": [
    "### 5-1 Create a custom organization on Nexus using Pyxus\n",
    "\n",
    "Input a custom name and description for your organization below:"
   ]
  },
  {
   "cell_type": "code",
   "execution_count": 30,
   "metadata": {},
   "outputs": [
    {
     "name": "stdout",
     "output_type": "stream",
     "text": [
      "org1\n",
      "description\n"
     ]
    }
   ],
   "source": [
    "organization_name = input()\n",
    "organization_description = input()"
   ]
  },
  {
   "cell_type": "markdown",
   "metadata": {},
   "source": [
    "With the provided organization name and description, you can create your organization on Nexus:"
   ]
  },
  {
   "cell_type": "code",
   "execution_count": null,
   "metadata": {},
   "outputs": [],
   "source": [
    "your_organization = Organization.create_new(organization_name, organization_description) \n",
    "client.organizations.create(your_organization)"
   ]
  },
  {
   "cell_type": "markdown",
   "metadata": {},
   "source": [
    "You can access your organization here:"
   ]
  },
  {
   "cell_type": "code",
   "execution_count": 23,
   "metadata": {},
   "outputs": [
    {
     "name": "stdout",
     "output_type": "stream",
     "text": [
      "https://bbp-nexus.epfl.ch/staging/v0/organizations/bbp\n"
     ]
    }
   ],
   "source": [
    "your_organization = client.organizations.read(organization_name)\n",
    "print(your_organization.data[\"@id\"])"
   ]
  },
  {
   "cell_type": "markdown",
   "metadata": {},
   "source": [
    "### 5-2 Create a custom domain on Nexus using Pyxus\n",
    "\n",
    "Input a custom name and decription for your domain below:"
   ]
  },
  {
   "cell_type": "code",
   "execution_count": 25,
   "metadata": {},
   "outputs": [
    {
     "name": "stdout",
     "output_type": "stream",
     "text": [
      "experiment\n",
      "experiment domain\n"
     ]
    }
   ],
   "source": [
    "domain_name = input()\n",
    "domain_description = input()"
   ]
  },
  {
   "cell_type": "markdown",
   "metadata": {},
   "source": [
    "With the provided domain name and description, you can create your domain on Nexus:"
   ]
  },
  {
   "cell_type": "code",
   "execution_count": 26,
   "metadata": {},
   "outputs": [
    {
     "data": {
      "text/plain": [
       "<pyxus.resources.entity.Domain at 0x110399b70>"
      ]
     },
     "execution_count": 26,
     "metadata": {},
     "output_type": "execute_result"
    }
   ],
   "source": [
    "your_domain = Domain.create_new(organization_name, domain_name, domain_description) \n",
    "client.domains.create(your_domain)"
   ]
  },
  {
   "cell_type": "markdown",
   "metadata": {},
   "source": [
    "You can access your domain here:"
   ]
  },
  {
   "cell_type": "code",
   "execution_count": 34,
   "metadata": {},
   "outputs": [
    {
     "name": "stdout",
     "output_type": "stream",
     "text": [
      "https://bbp-nexus.epfl.ch/staging/v0/domains/org1/experiment\n"
     ]
    }
   ],
   "source": [
    "your_domain = client.domains.read(organization_name, domain_name)\n",
    "print(your_domain.data[\"@id\"])"
   ]
  },
  {
   "cell_type": "markdown",
   "metadata": {},
   "source": [
    "### 5-3 Secure the custom organization\n",
    "\n",
    "To restrict access to your organization, you can set specific access rights"
   ]
  },
  {
   "cell_type": "markdown",
   "metadata": {},
   "source": [
    "Grab a token here (use your Collab "
   ]
  },
  {
   "cell_type": "code",
   "execution_count": 50,
   "metadata": {},
   "outputs": [],
   "source": [
    "user_reference = \"f:9d46ddd6-134e-44d6-aa74-bdf00f48dfce:akkaufma\""
   ]
  },
  {
   "cell_type": "code",
   "execution_count": 51,
   "metadata": {},
   "outputs": [],
   "source": [
    "acls = {\n",
    "    \"acl\": [\n",
    "        {\n",
    "            \"permissions\": [\n",
    "            \"read\",\n",
    "            \"write\",\n",
    "            \"own\"\n",
    "            ],\n",
    "            \"identity\": {\n",
    "            \"realm\": \"BBP\",\n",
    "            \"sub\": user_reference,\n",
    "            \"@type\": \"UserRef\"\n",
    "            }\n",
    "        }\n",
    "    ]\n",
    "}"
   ]
  },
  {
   "cell_type": "code",
   "execution_count": 52,
   "metadata": {},
   "outputs": [
    {
     "name": "stdout",
     "output_type": "stream",
     "text": [
      "200\n"
     ]
    }
   ],
   "source": [
    "response = requests.put(\"https://bbp-nexus.epfl.ch/staging/v0/acls/kg/org1\", json=acls)\n",
    "if response.status_code >= 400:\n",
    "    response_text = yaml.load(response.text)\n",
    "    print(response_text.get('code'))\n",
    "else:\n",
    "    print(response.status_code)"
   ]
  },
  {
   "cell_type": "markdown",
   "metadata": {},
   "source": [
    "### 5-4 Create and publish schemas for Subject, Neuron, Dataset"
   ]
  },
  {
   "cell_type": "markdown",
   "metadata": {},
   "source": [
    "### 5-5 Create instances with prepared payloads"
   ]
  },
  {
   "cell_type": "markdown",
   "metadata": {},
   "source": [
    "### 5-6 Update one of the instances"
   ]
  },
  {
   "cell_type": "markdown",
   "metadata": {},
   "source": [
    "### 5-7 Attach binaries to the dataset instances"
   ]
  }
 ],
 "metadata": {
  "kernelspec": {
   "display_name": "Python 3",
   "language": "python",
   "name": "python3"
  },
  "language_info": {
   "codemirror_mode": {
    "name": "ipython",
    "version": 3
   },
   "file_extension": ".py",
   "mimetype": "text/x-python",
   "name": "python",
   "nbconvert_exporter": "python",
   "pygments_lexer": "ipython3",
   "version": "3.6.1"
  }
 },
 "nbformat": 4,
 "nbformat_minor": 2
}
