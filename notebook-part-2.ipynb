{
 "cells": [
  {
   "cell_type": "markdown",
   "metadata": {},
   "source": [
    "<a href=\"figures/Nexus_logo_800px.png\" target=\"_blank\"><img src=\"figures/Nexus_logo_800px.png\" \n",
    "width=\"150\" border=\"10\" /></a>"
   ]
  },
  {
   "cell_type": "markdown",
   "metadata": {},
   "source": [
    "# Blue Brain Nexus - A knowledge graph for data-driven science"
   ]
  },
  {
   "cell_type": "markdown",
   "metadata": {},
   "source": [
    "## 5 - Exercises Part 2"
   ]
  },
  {
   "cell_type": "markdown",
   "metadata": {},
   "source": [
    "### 5-0 Import of relevant Pyxus classes and client setup"
   ]
  },
  {
   "cell_type": "code",
   "execution_count": 3,
   "metadata": {},
   "outputs": [],
   "source": [
    "import requests\n",
    "import yaml\n",
    "from pyxus.client import NexusClient\n",
    "from pyxus.resources.entity import Organization\n",
    "from pyxus.resources.entity import Domain\n",
    "from pyxus.resources.entity import Schema\n",
    "from pyxus.resources.entity import Instance"
   ]
  },
  {
   "cell_type": "markdown",
   "metadata": {},
   "source": [
    "Grab a token here (use your Collab credentials to log in): https://bbp-nexus.epfl.ch/staging/v0/oauth2/authorize\n",
    "\n",
    "Copy the token (the string of numbers and letters between the quotation marks) and paste it as the value of the 'token' variable below:"
   ]
  },
  {
   "cell_type": "code",
   "execution_count": 40,
   "metadata": {},
   "outputs": [],
   "source": [
    "# token = \"<PASTE YOUR TOKEN HERE>\"\n",
    "token = \"\""
   ]
  },
  {
   "cell_type": "code",
   "execution_count": 41,
   "metadata": {},
   "outputs": [],
   "source": [
    "client = NexusClient(scheme=\"https\", host=\"bbp-nexus.epfl.ch\", prefix=\"staging/v0\", alternative_namespace=\"https://bbp-nexus.epfl.ch\", token=token)"
   ]
  },
  {
   "cell_type": "code",
   "execution_count": null,
   "metadata": {},
   "outputs": [],
   "source": [
    "print(client.organizations)\n",
    "print(client.domains)\n",
    "print(client.schemas)\n",
    "print(client.instances)"
   ]
  },
  {
   "cell_type": "markdown",
   "metadata": {},
   "source": [
    "### 5-1 Create a custom organization on Nexus using Pyxus\n",
    "\n",
    "Input a custom name and description for your organization below:"
   ]
  },
  {
   "cell_type": "code",
   "execution_count": 32,
   "metadata": {},
   "outputs": [
    {
     "name": "stdout",
     "output_type": "stream",
     "text": [
      "org1\n",
      "dd\n"
     ]
    }
   ],
   "source": [
    "organization_name = \"<PUT YOUR ORGANIZATION NAME HERE>\"\n",
    "organization_description = \"PUT YOUR ORGANIZATION DESCRIPTION HERE\""
   ]
  },
  {
   "cell_type": "markdown",
   "metadata": {},
   "source": [
    "With the provided organization name and description, you can create your organization on Nexus:"
   ]
  },
  {
   "cell_type": "code",
   "execution_count": null,
   "metadata": {},
   "outputs": [],
   "source": [
    "your_organization = Organization.create_new(organization_name, organization_description) \n",
    "client.organizations.create(your_organization)"
   ]
  },
  {
   "cell_type": "markdown",
   "metadata": {},
   "source": [
    "You can access your organization here:"
   ]
  },
  {
   "cell_type": "code",
   "execution_count": null,
   "metadata": {},
   "outputs": [],
   "source": [
    "your_organization = client.organizations.read(organization_name)\n",
    "print(your_organization.data[\"@id\"])"
   ]
  },
  {
   "cell_type": "markdown",
   "metadata": {},
   "source": [
    "### 5-2 Create a custom domain on Nexus using Pyxus\n",
    "\n",
    "Input a custom name and decription for your domain below:"
   ]
  },
  {
   "cell_type": "code",
   "execution_count": 33,
   "metadata": {},
   "outputs": [
    {
     "name": "stdout",
     "output_type": "stream",
     "text": [
      "experiment\n",
      "ww\n"
     ]
    }
   ],
   "source": [
    "domain_name = \"<PUT YOUR DOMAIN NAME HERE>\"\n",
    "domain_description = \"PUT YOUR DOMAIN DESCRIPTION HERE\""
   ]
  },
  {
   "cell_type": "markdown",
   "metadata": {},
   "source": [
    "With the provided domain name and description, you can create your domain on Nexus:"
   ]
  },
  {
   "cell_type": "code",
   "execution_count": null,
   "metadata": {},
   "outputs": [],
   "source": [
    "your_domain = Domain.create_new(organization_name, domain_name, domain_description) \n",
    "client.domains.create(your_domain)"
   ]
  },
  {
   "cell_type": "markdown",
   "metadata": {},
   "source": [
    "You can access your domain here:"
   ]
  },
  {
   "cell_type": "code",
   "execution_count": null,
   "metadata": {},
   "outputs": [],
   "source": [
    "your_domain = client.domains.read(organization_name, domain_name)\n",
    "print(your_domain.data[\"@id\"])"
   ]
  },
  {
   "cell_type": "markdown",
   "metadata": {},
   "source": [
    "### 5-3 Secure the custom organization\n",
    "\n",
    "To restrict access to your organization, you can set specific access rights"
   ]
  },
  {
   "cell_type": "markdown",
   "metadata": {},
   "source": [
    "Get your user reference and realm here:"
   ]
  },
  {
   "cell_type": "code",
   "execution_count": null,
   "metadata": {},
   "outputs": [],
   "source": [
    "response = requests.get(\"https://bbp-nexus.epfl.ch/staging/v0/oauth2/user\", headers={\"Authorization\": \"Bearer {}\".format(token)})\n",
    "if response.status_code < 400:\n",
    "    response_text = yaml.load(response.text)[\"identities\"]\n",
    "    for identity in response_text:\n",
    "        if identity[\"@type\"] == \"UserRef\":\n",
    "            user_reference = identity[\"sub\"]\n",
    "            realm = identity[\"realm\"]\n",
    "else:\n",
    "     print(response.status_code)\n",
    "\n",
    "print(user_reference)\n",
    "print(realm) "
   ]
  },
  {
   "cell_type": "markdown",
   "metadata": {},
   "source": [
    "The following payload defines the permissions you want to set for your organization"
   ]
  },
  {
   "cell_type": "code",
   "execution_count": null,
   "metadata": {},
   "outputs": [],
   "source": [
    "acls = {\n",
    "    \"acl\": [\n",
    "        {\n",
    "            \"permissions\": [\n",
    "            \"read\",\n",
    "            \"write\",\n",
    "            \"own\"\n",
    "            ],\n",
    "            \"identity\": {\n",
    "            \"realm\": realm,\n",
    "            \"sub\": user_reference,\n",
    "            \"@type\": \"UserRef\"\n",
    "            }\n",
    "        }\n",
    "    ]\n",
    "}"
   ]
  },
  {
   "cell_type": "markdown",
   "metadata": {},
   "source": [
    "Use the defined acls to set permissions on your organization:"
   ]
  },
  {
   "cell_type": "code",
   "execution_count": null,
   "metadata": {},
   "outputs": [],
   "source": [
    "response = requests.put(your_organization.data[\"@id\"], json=acls)\n",
    "if response.status_code >= 400:\n",
    "    response_text = yaml.load(response.text)\n",
    "    print(response_text.get('code'))\n",
    "else:\n",
    "    print(response.status_code)"
   ]
  },
  {
   "cell_type": "markdown",
   "metadata": {},
   "source": [
    "### 5-4 Create and publish schemas for Subject, Neuron and Dataset"
   ]
  },
  {
   "cell_type": "markdown",
   "metadata": {},
   "source": [
    "Create the Schemas for Subject, Neuron and Dataset:"
   ]
  },
  {
   "cell_type": "code",
   "execution_count": 37,
   "metadata": {},
   "outputs": [],
   "source": [
    "subject_schema = {\n",
    "  \"@context\": [\n",
    "    \"https://bbp-nexus.epfl.ch/staging/v0/contexts/neurosciencegraph/core/schema/v0.1.0\"\n",
    "  ],\n",
    "  \"@type\": \"nxv:Schema\",\n",
    "  \"shapes\": [\n",
    "    {\n",
    "      \"@id\": \"https://bbp-nexus.epfl.ch/staging/v0/schemas/neurosciencegraph/experiment/subject/v0.1.0/shapes/SubjectShape\",\n",
    "      \"@type\": \"sh:NodeShape\",\n",
    "      \"label\": \"Subject shape definition\",\n",
    "      \"comment\": \"Subject used in experiment.\",\n",
    "      \"targetClass\": \"nsg:Subject\",\n",
    "      \"nodeKind\": \"sh:BlankNodeOrIRI\",\n",
    "      \"property\": [\n",
    "        {\n",
    "          \"path\": \"schema:name\",\n",
    "          \"name\": \"Name\",\n",
    "          \"description\": \"The name of the subject\",\n",
    "          \"datatype\": \"xsd:string\",\n",
    "          \"maxCount\": 1\n",
    "        },\n",
    "        {\n",
    "          \"path\": \"nsg:species\",\n",
    "          \"name\": \"Species\",\n",
    "          \"description\": \"The species of the subject\",\n",
    "          \"datatype\": \"xsd:string\",\n",
    "          \"minCount\": 1,\n",
    "          \"maxCount\": 1\n",
    "        },\n",
    "        {\n",
    "          \"path\": \"nsg:sex\",\n",
    "          \"name\": \"Sex\",\n",
    "          \"description\": \"The sex of the subject\",\n",
    "          \"datatype\": \"xsd:string\",\n",
    "          \"maxCount\": 1\n",
    "        },\n",
    "        {\n",
    "          \"path\": \"nsg:age\",\n",
    "          \"name\": \"Age\",\n",
    "          \"description\": \"The age of the subject.\",\n",
    "          \"node\": \"https://bbp-nexus.epfl.ch/staging/v0/schemas/neurosciencegraph/experiment/subject/v0.1.0/AgeShape\",\n",
    "          \"maxCount\": 1\n",
    "        },\n",
    "        {\n",
    "          \"path\": \"nsg:weight\",\n",
    "          \"name\": \"Weight\",\n",
    "          \"description\": \"The weight of the subject.\",\n",
    "          \"node\": \"https://bbp-nexus.epfl.ch/staging/v0/schemas/neurosciencegraph/experiment/subject/v0.1.0/QuantitativeValueShape\",\n",
    "          \"maxCount\": 1\n",
    "        }\n",
    "      ]\n",
    "    },\n",
    "    {\n",
    "      \"@id\": \"https://bbp-nexus.epfl.ch/staging/v0/schemas/neurosciencegraph/experiment/subject/v0.1.0/AgeShape\",\n",
    "      \"@type\": \"sh:NodeShape\",\n",
    "      \"property\": [\n",
    "        {\n",
    "          \"path\": \"nsg:period\",\n",
    "          \"name\": \"Period\",\n",
    "          \"in\": [\n",
    "            \"Pre-natal\",\n",
    "            \"Post-natal\"\n",
    "          ],\n",
    "          \"minCount\": 1,\n",
    "          \"maxCount\": 1\n",
    "        },\n",
    "        {\n",
    "          \"path\": \"schema:value\",\n",
    "          \"name\": \"Age value\",\n",
    "          \"node\": \"https://bbp-nexus.epfl.ch/staging/v0/schemas/neurosciencegraph/experiment/subject/v0.1.0/QuantitativeValueShape\",\n",
    "          \"minCount\": 1,\n",
    "          \"maxCount\": 1\n",
    "        }\n",
    "      ]\n",
    "    },\n",
    "    {\n",
    "      \"@id\": \"https://bbp-nexus.epfl.ch/staging/v0/schemas/neurosciencegraph/experiment/subject/v0.1.0/QuantitativeValueShape\",\n",
    "      \"@type\": \"sh:NodeShape\",\n",
    "      \"property\": [\n",
    "        {\n",
    "          \"path\": \"schema:value\",\n",
    "          \"name\": \"Value\",\n",
    "          \"datatype\": \"xsd:string\",\n",
    "          \"maxCount\": 1,\n",
    "          \"minCount\": 1\n",
    "        },\n",
    "        {\n",
    "          \"path\": \"schema:unitText\",\n",
    "          \"name\": \"Unit\",\n",
    "          \"datatype\": \"xsd:string\",\n",
    "          \"maxCount\": 1,\n",
    "          \"minCount\": 1\n",
    "        }\n",
    "\n",
    "      ]\n",
    "    }\n",
    "  ]\n",
    "}"
   ]
  },
  {
   "cell_type": "code",
   "execution_count": null,
   "metadata": {},
   "outputs": [],
   "source": [
    "neuron_schema = {}"
   ]
  },
  {
   "cell_type": "code",
   "execution_count": null,
   "metadata": {},
   "outputs": [],
   "source": [
    "dataset_schema = {}"
   ]
  },
  {
   "cell_type": "markdown",
   "metadata": {},
   "source": [
    "Repeat the following steps for the Subject, Neuron and dataset schemas:"
   ]
  },
  {
   "cell_type": "code",
   "execution_count": 38,
   "metadata": {},
   "outputs": [],
   "source": [
    "schema_name = \"subject\"\n",
    "schema_version = \"v0.1.0\"\n",
    "content = subject_schema"
   ]
  },
  {
   "cell_type": "code",
   "execution_count": null,
   "metadata": {},
   "outputs": [],
   "source": [
    "schema = Schema.create_new(organization=organization_name, domain=domain_name, schema='subject',version='v0.1.0', content=content)\n",
    "client.schemas.create(schema)"
   ]
  },
  {
   "cell_type": "code",
   "execution_count": 131,
   "metadata": {},
   "outputs": [
    {
     "name": "stdout",
     "output_type": "stream",
     "text": [
      "https://bbp-nexus.epfl.ch/staging/v0/schemas/org1/experiment/subject/v0.1.0\n"
     ]
    }
   ],
   "source": [
    "schema = client.schemas.read(organization=organization_name, domain=domain_name, schema=schema_name, version=schema_version)\n",
    "print(subject.data[\"@id\"])"
   ]
  },
  {
   "cell_type": "markdown",
   "metadata": {},
   "source": [
    "Publish the schema you have just created:"
   ]
  },
  {
   "cell_type": "code",
   "execution_count": 133,
   "metadata": {},
   "outputs": [
    {
     "data": {
      "text/plain": [
       "<pyxus.resources.entity.Schema at 0x1111396d8>"
      ]
     },
     "execution_count": 133,
     "metadata": {},
     "output_type": "execute_result"
    }
   ],
   "source": [
    "client.schemas.publish(entity=schema,publish=True)"
   ]
  },
  {
   "cell_type": "markdown",
   "metadata": {},
   "source": [
    "### 5-5 Create instances with prepared payloads"
   ]
  },
  {
   "cell_type": "code",
   "execution_count": 66,
   "metadata": {},
   "outputs": [],
   "source": [
    "subject_data = {\n",
    "\"@context\": [\n",
    "  \"https://bbp-nexus.epfl.ch/staging/v0/contexts/neurosciencegraph/core/data/v0.1.1\"\n",
    "  ],\n",
    "  \"@type\": [\n",
    "    \"nsg:Subject\"\n",
    "    ],\n",
    "  \"name\": \"Name\",\n",
    "  \"species\": \"Rat\",\n",
    "  \"strain\": \"\",\n",
    "  \"sex\": \"\",\n",
    "  \"age\": {\n",
    "    \"period\": \"Post-natal\",\n",
    "    \"value\": {\n",
    "      \"unitText\": \"\",\n",
    "      \"value\": \"\"\n",
    "    }\n",
    "  },\n",
    "  \"weight\": {\n",
    "    \"unitText\": \"\",\n",
    "    \"value\": \"\"\n",
    "  }\n",
    "}"
   ]
  },
  {
   "cell_type": "code",
   "execution_count": null,
   "metadata": {},
   "outputs": [],
   "source": [
    "neuron_data = {}"
   ]
  },
  {
   "cell_type": "code",
   "execution_count": null,
   "metadata": {},
   "outputs": [],
   "source": [
    "dataset_data = {}"
   ]
  },
  {
   "cell_type": "code",
   "execution_count": 58,
   "metadata": {},
   "outputs": [
    {
     "data": {
      "text/plain": [
       "<pyxus.resources.entity.Instance at 0x110e87a58>"
      ]
     },
     "execution_count": 58,
     "metadata": {},
     "output_type": "execute_result"
    }
   ],
   "source": [
    "instance = Instance.create_new(organization=organization_name, domain=domain_name, schema=schema_name, version=schema_version, content=subject_data)\n",
    "client.instances.create(instance)"
   ]
  },
  {
   "cell_type": "markdown",
   "metadata": {},
   "source": [
    "Retrieve all the instances you have created"
   ]
  },
  {
   "cell_type": "code",
   "execution_count": 68,
   "metadata": {
    "scrolled": true
   },
   "outputs": [
    {
     "name": "stdout",
     "output_type": "stream",
     "text": [
      "https://bbp-nexus.epfl.ch/staging/v0/data/org1/experiment/subject/v0.1.0/09cb4bae-933d-4277-b24b-87b831beb1c0\n",
      "https://bbp-nexus.epfl.ch/staging/v0/data/org1/experiment/subject/v0.1.0/a673c759-7a8b-48c4-b8f2-223f93bf764c\n",
      "https://bbp-nexus.epfl.ch/staging/v0/data/org1/experiment/subject/v0.1.0/a69fd61f-fef9-448d-9b7d-f3a12f62284a\n"
     ]
    }
   ],
   "source": [
    "search_result = client.instances.list_by_schema(organization=organization_name, domain=domain_name, schema=schema_name, version=schema_version)\n",
    "for result in search_result.results:\n",
    "    print(result.result_id)\n",
    "    instance_id = result.result_id"
   ]
  },
  {
   "cell_type": "markdown",
   "metadata": {},
   "source": [
    "### 5-6 Update one of the instances"
   ]
  },
  {
   "cell_type": "code",
   "execution_count": 67,
   "metadata": {},
   "outputs": [
    {
     "data": {
      "text/plain": [
       "<pyxus.resources.entity.Instance at 0x110e87a58>"
      ]
     },
     "execution_count": 67,
     "metadata": {},
     "output_type": "execute_result"
    }
   ],
   "source": [
    "instance.data = updated_subject_data\n",
    "client.instances.update(entity=instance)"
   ]
  },
  {
   "cell_type": "markdown",
   "metadata": {},
   "source": [
    "### 5-7 Attach binaries to the dataset instances"
   ]
  },
  {
   "cell_type": "markdown",
   "metadata": {},
   "source": [
    "### 5-8 Find your resources in Nexus Explorer, remove acls's, find all neurons"
   ]
  },
  {
   "cell_type": "code",
   "execution_count": null,
   "metadata": {},
   "outputs": [],
   "source": []
  }
 ],
 "metadata": {
  "kernelspec": {
   "display_name": "Python 3",
   "language": "python",
   "name": "python3"
  },
  "language_info": {
   "codemirror_mode": {
    "name": "ipython",
    "version": 3
   },
   "file_extension": ".py",
   "mimetype": "text/x-python",
   "name": "python",
   "nbconvert_exporter": "python",
   "pygments_lexer": "ipython3",
   "version": "3.6.1"
  }
 },
 "nbformat": 4,
 "nbformat_minor": 2
}
