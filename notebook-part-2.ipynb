{
 "cells": [
  {
   "cell_type": "markdown",
   "metadata": {},
   "source": [
    "<a href=\"figures/Nexus_logo_800px.png\" target=\"_blank\"><img src=\"figures/Nexus_logo_800px.png\" \n",
    "width=\"150\" border=\"10\" /></a>"
   ]
  },
  {
   "cell_type": "markdown",
   "metadata": {},
   "source": [
    "# Blue Brain Nexus - A knowledge graph for data-driven science - Part 2"
   ]
  },
  {
   "cell_type": "markdown",
   "metadata": {},
   "source": [
    "## 5 - Exercises Part 2"
   ]
  },
  {
   "cell_type": "markdown",
   "metadata": {},
   "source": [
    "### 5-0 Installation of Pyxus, import of relevant classes and client setup\n",
    "\n",
    "Nexus exposes a RESTful interface over HTTP(S). To faciliate API interactions, the Nexus client Pyxus ([Pyxus on github](https://github.com/HumanBrainProject/pyxus)) can be used Pyxus to access and manage resources in Nexus.\n",
    "\n",
    "**Execute the following code line to install Pyxus:**"
   ]
  },
  {
   "cell_type": "code",
   "execution_count": null,
   "metadata": {},
   "outputs": [],
   "source": [
    "!pip install git+https://github.com/HumanBrainProject/pyxus@v0.1.2\n",
    "!pip install requests\n",
    "!pip install yaml"
   ]
  },
  {
   "cell_type": "markdown",
   "metadata": {},
   "source": [
    "**Import relevant Pyxus classes:**"
   ]
  },
  {
   "cell_type": "code",
   "execution_count": null,
   "metadata": {},
   "outputs": [],
   "source": [
    "import requests\n",
    "import yaml\n",
    "from pyxus.client import NexusClient\n",
    "from pyxus.resources.entity import Organization\n",
    "from pyxus.resources.entity import Domain\n",
    "from pyxus.resources.entity import Schema\n",
    "from pyxus.resources.entity import Instance"
   ]
  },
  {
   "cell_type": "markdown",
   "metadata": {},
   "source": [
    "#### Grab a token here (use your Collab credentials to log in): \n",
    "\n",
    "https://bbp-nexus.epfl.ch/staging/v0/oauth2/authorize\n",
    "\n",
    "Copy the token (the string of numbers and letters between the quotation marks) and paste it as the value of the 'token' variable below (please note that the token expires after 30 minutes, after which you have to grab a new token using the link above, replace your expired token below and rerun the Nexus client setup):"
   ]
  },
  {
   "cell_type": "code",
   "execution_count": null,
   "metadata": {},
   "outputs": [],
   "source": [
    "token = \"<PASTE YOUR TOKEN HERE>\""
   ]
  },
  {
   "cell_type": "markdown",
   "metadata": {},
   "source": [
    "#### Setup your Nexus client by executing the code line below"
   ]
  },
  {
   "cell_type": "code",
   "execution_count": null,
   "metadata": {},
   "outputs": [],
   "source": [
    "client = NexusClient(scheme=\"https\", host=\"bbp-nexus.epfl.ch\", prefix=\"staging/v0\", alternative_namespace=\"https://bbp-nexus.epfl.ch\", token=token)"
   ]
  },
  {
   "cell_type": "markdown",
   "metadata": {},
   "source": [
    "### 5-1 Create a custom organization on Nexus using Pyxus\n",
    "\n",
    "Top-level resources in Nexus are organizations (see diagram in Part 1). To set up your own organization, input a custom name and description for your organization below (e.g. use your first name as organization_name):"
   ]
  },
  {
   "cell_type": "code",
   "execution_count": null,
   "metadata": {},
   "outputs": [],
   "source": [
    "organization_name = \"<PUT YOUR ORGANIZATION NAME HERE>\"\n",
    "organization_description = \"<PUT YOUR ORGANIZATION DESCRIPTION HERE>\""
   ]
  },
  {
   "cell_type": "markdown",
   "metadata": {},
   "source": [
    "With the provided organization name and description, you can **create your organization** on Nexus:"
   ]
  },
  {
   "cell_type": "code",
   "execution_count": null,
   "metadata": {},
   "outputs": [],
   "source": [
    "your_organization = Organization.create_new(organization_name, organization_description) \n",
    "client.organizations.create(your_organization)"
   ]
  },
  {
   "cell_type": "markdown",
   "metadata": {},
   "source": [
    "You can access your organization resource through the link provided after executing the code below:"
   ]
  },
  {
   "cell_type": "code",
   "execution_count": null,
   "metadata": {},
   "outputs": [],
   "source": [
    "your_organization = client.organizations.read(organization_name)\n",
    "print(your_organization.data[\"@id\"])"
   ]
  },
  {
   "cell_type": "markdown",
   "metadata": {},
   "source": [
    "Check out your newly created organization in [Nexus Explorer](http://explorer.staging.nexus.ocp.bbp.epfl.ch/)"
   ]
  },
  {
   "cell_type": "markdown",
   "metadata": {},
   "source": [
    "### 5-2 Create a custom domain on Nexus using Pyxus\n",
    "\n",
    "Nested inside organizations on Nexus are domains. To set up your own domain, Input a custom name and decription for your domain below:"
   ]
  },
  {
   "cell_type": "code",
   "execution_count": null,
   "metadata": {},
   "outputs": [],
   "source": [
    "domain_name = \"<PUT YOUR DOMAIN NAME HERE>\"\n",
    "domain_description = \"<PUT YOUR DOMAIN DESCRIPTION HERE>\""
   ]
  },
  {
   "cell_type": "markdown",
   "metadata": {},
   "source": [
    "With the provided domain name and description, you can **create your domain** on Nexus:"
   ]
  },
  {
   "cell_type": "code",
   "execution_count": null,
   "metadata": {},
   "outputs": [],
   "source": [
    "your_domain = Domain.create_new(organization_name, domain_name, domain_description) \n",
    "client.domains.create(your_domain)"
   ]
  },
  {
   "cell_type": "markdown",
   "metadata": {},
   "source": [
    "You can access your domain resource through the link provided after executing the code below:"
   ]
  },
  {
   "cell_type": "code",
   "execution_count": null,
   "metadata": {},
   "outputs": [],
   "source": [
    "your_domain = client.domains.read(organization_name, domain_name)\n",
    "print(your_domain.data[\"@id\"])"
   ]
  },
  {
   "cell_type": "markdown",
   "metadata": {},
   "source": [
    "Check out your newly created domain in [Nexus Explorer](http://explorer.staging.nexus.ocp.bbp.epfl.ch/)"
   ]
  },
  {
   "cell_type": "markdown",
   "metadata": {},
   "source": [
    "### 5-3 Create and publish schemas for Subject, Neuron and Dataset"
   ]
  },
  {
   "cell_type": "markdown",
   "metadata": {},
   "source": [
    "Now that you have created your own organization and domain in Nexus, you can create the **schemas for Subject, Neuron and Dataset**. Copy-paste the three schemas from Part 1 as the value of the respective variable below:"
   ]
  },
  {
   "cell_type": "code",
   "execution_count": null,
   "metadata": {},
   "outputs": [],
   "source": [
    "subject_schema = \"<PASTE SUBJECT SCHEMA HERE>\""
   ]
  },
  {
   "cell_type": "code",
   "execution_count": null,
   "metadata": {},
   "outputs": [],
   "source": [
    "neuron_schema = \"<PASTE NEURON SCHEMA HERE>\""
   ]
  },
  {
   "cell_type": "code",
   "execution_count": null,
   "metadata": {},
   "outputs": [],
   "source": [
    "dataset_schema = \"<PASTE DATASET SCHEMA HERE>\""
   ]
  },
  {
   "cell_type": "markdown",
   "metadata": {},
   "source": [
    "**Repeat** the following steps for the Subject, Neuron and Dataset schemas (adjust the schema_name and content variables accordingly):\n",
    "\n",
    "-----"
   ]
  },
  {
   "cell_type": "code",
   "execution_count": null,
   "metadata": {},
   "outputs": [],
   "source": [
    "schema_name = \"subject\"\n",
    "schema_version = \"v0.1.0\"\n",
    "content = subject_schema"
   ]
  },
  {
   "cell_type": "markdown",
   "metadata": {},
   "source": [
    "Run the following code to create a schema and store it in Nexus:"
   ]
  },
  {
   "cell_type": "code",
   "execution_count": null,
   "metadata": {},
   "outputs": [],
   "source": [
    "schema = Schema.create_new(organization=organization_name, domain=domain_name, schema='subject',version='v0.1.0', content=content)\n",
    "client.schemas.create(schema)"
   ]
  },
  {
   "cell_type": "markdown",
   "metadata": {},
   "source": [
    "Access the schema you have created:"
   ]
  },
  {
   "cell_type": "code",
   "execution_count": null,
   "metadata": {},
   "outputs": [],
   "source": [
    "schema = client.schemas.read(organization=organization_name, domain=domain_name, schema=schema_name, version=schema_version)\n",
    "print(subject.data[\"@id\"])"
   ]
  },
  {
   "cell_type": "markdown",
   "metadata": {},
   "source": [
    "To be able to submit data against your schema, it has to be published. To publish your schema, run the following code (note how the value of the key \"published\" in your schema changes):"
   ]
  },
  {
   "cell_type": "code",
   "execution_count": null,
   "metadata": {},
   "outputs": [],
   "source": [
    "client.schemas.publish(entity=schema,publish=True)\n",
    "print(subject.data[\"@id\"])"
   ]
  },
  {
   "cell_type": "markdown",
   "metadata": {},
   "source": [
    "Check out your newly created schemas in [Nexus Explorer](http://explorer.staging.nexus.ocp.bbp.epfl.ch/)"
   ]
  },
  {
   "cell_type": "markdown",
   "metadata": {},
   "source": [
    "### 5-4 Create instances with prepared payloads"
   ]
  },
  {
   "cell_type": "markdown",
   "metadata": {},
   "source": [
    "Now that the three schemas needed for our data are stored and published, we can validate our data against those schemas and store them in Nexus."
   ]
  },
  {
   "cell_type": "code",
   "execution_count": null,
   "metadata": {},
   "outputs": [],
   "source": [
    "subject_metadata = \"<PASTE SUBJECT DATA HERE>\""
   ]
  },
  {
   "cell_type": "code",
   "execution_count": null,
   "metadata": {},
   "outputs": [],
   "source": [
    "neuron_metadata = \"<PASTE SUBJECT DATA HERE>\""
   ]
  },
  {
   "cell_type": "raw",
   "metadata": {},
   "source": [
    "morphology_metadata = \"<PASTE MORPHOLOGY DATASET DATA HERE>\""
   ]
  },
  {
   "cell_type": "code",
   "execution_count": null,
   "metadata": {},
   "outputs": [],
   "source": [
    "electrophysiology_metadata = \"<PASTE ELECTROPHYSIOLOGY DATASET DATA HERE>\""
   ]
  },
  {
   "cell_type": "markdown",
   "metadata": {},
   "source": [
    "**Repeat** the following steps for the Subject, Neuron, Morphology and Electrophysiology metadata (adjust the schema_name and content variables accordingly):\n",
    "\n",
    "-----"
   ]
  },
  {
   "cell_type": "code",
   "execution_count": null,
   "metadata": {},
   "outputs": [],
   "source": [
    "schema_name = \"subject\"\n",
    "schema_version = \"v0.1.0\"\n",
    "content = subject_schema"
   ]
  },
  {
   "cell_type": "markdown",
   "metadata": {},
   "source": [
    "Run the following code to create an instance and store it in Nexus:"
   ]
  },
  {
   "cell_type": "code",
   "execution_count": null,
   "metadata": {},
   "outputs": [],
   "source": [
    "instance = Instance.create_new(organization=organization_name, domain=domain_name, schema=schema_name, version=schema_version, content=subject_data)\n",
    "client.instances.create(instance)"
   ]
  },
  {
   "cell_type": "markdown",
   "metadata": {},
   "source": [
    "Retrieve all the instances you have created"
   ]
  },
  {
   "cell_type": "code",
   "execution_count": null,
   "metadata": {
    "scrolled": true
   },
   "outputs": [],
   "source": [
    "search_result = client.instances.list_by_schema(organization=organization_name, domain=domain_name, schema=schema_name, version=schema_version)\n",
    "for result in search_result.results:\n",
    "    print(result.result_id)\n",
    "    instance_id = result.result_id"
   ]
  },
  {
   "cell_type": "markdown",
   "metadata": {},
   "source": [
    "Check out your newly created data instances in [Nexus Explorer](http://explorer.staging.nexus.ocp.bbp.epfl.ch/)"
   ]
  },
  {
   "cell_type": "markdown",
   "metadata": {},
   "source": [
    "### 5-5 Update the latest instance\n",
    "\n",
    "After data has been stored in Nexus, it can be updated (e.g. if you want to provide a more detailed description or correct a typo). Take the payload of the last instance you have created and update its description. Paste the updated metadata as the value of the variable 'updated_instance_data\" below:"
   ]
  },
  {
   "cell_type": "code",
   "execution_count": null,
   "metadata": {},
   "outputs": [],
   "source": [
    "updated_instance_data = \"<PASTE THE UPDATED INSTANCE DATA HERE>\""
   ]
  },
  {
   "cell_type": "markdown",
   "metadata": {},
   "source": [
    "Using the updated payload, you can update your instance on Nexus:"
   ]
  },
  {
   "cell_type": "code",
   "execution_count": null,
   "metadata": {},
   "outputs": [],
   "source": [
    "instance.data = updated_instance_data\n",
    "client.instances.update(entity=instance)"
   ]
  },
  {
   "cell_type": "markdown",
   "metadata": {},
   "source": [
    "List your instance and see the updated data:"
   ]
  },
  {
   "cell_type": "code",
   "execution_count": null,
   "metadata": {
    "scrolled": true
   },
   "outputs": [],
   "source": [
    "search_result = client.instances.list_by_schema(organization=organization_name, domain=domain_name, schema=schema_name, version=schema_version)\n",
    "for result in search_result.results:\n",
    "    print(result.result_id)\n",
    "    instance_id = result.result_id"
   ]
  },
  {
   "cell_type": "markdown",
   "metadata": {},
   "source": [
    "Check out your updated data instance in [Nexus Explorer](http://explorer.staging.nexus.ocp.bbp.epfl.ch/)"
   ]
  },
  {
   "cell_type": "markdown",
   "metadata": {},
   "source": [
    "### 5-6 Attach binaries to the morphology and electrophysiology dataset instance\n",
    "\n",
    "Nexus allows one to store metadata as well as file attachments. The following steps help you attach the provided morphology file (.ASC file format) and the electrophysiology recording file (.IBW file format). Please provide the correct filenames and nexus id's as the values of the variables below: "
   ]
  },
  {
   "cell_type": "code",
   "execution_count": null,
   "metadata": {},
   "outputs": [],
   "source": [
    "filename_morphology = \"<PUT MORPHOLOGY FILENAME HERE>\"\n",
    "filename_electrophysiology = \"<PUT ELECTROPHYSIOLOGY FILENAME HERE>\"\n",
    "\n",
    "morphology_dataset_id = \"<NEXUS @ID OF THE MORPHOLOGY DATASET>\"\n",
    "electrophysiology_dataset_id = \"<NEXUS @ID OF THE ELECTROPHYIOSLOGY DATASET>\""
   ]
  },
  {
   "cell_type": "markdown",
   "metadata": {},
   "source": [
    "Run the following code to attach the morphology file to the morphology dataset instance on Nexus:"
   ]
  },
  {
   "cell_type": "code",
   "execution_count": null,
   "metadata": {},
   "outputs": [],
   "source": [
    "url = \"{}/attachment?rev=1\".format(instance_id)\n",
    "morphology = {'file': open(filename_morphology, 'rb')}\n",
    "response = requests.put(url, files=morphology)"
   ]
  },
  {
   "cell_type": "markdown",
   "metadata": {},
   "source": [
    "Run the following code to attach the electrophysiology file to the electrophysiology dataset instance on Nexus:"
   ]
  },
  {
   "cell_type": "code",
   "execution_count": null,
   "metadata": {},
   "outputs": [],
   "source": [
    "url = \"{}/attachment?rev=1\".format(instance_id)\n",
    "electrophysiology = {'file': open(filename_electrophysiology, 'rb')}\n",
    "response = requests.put(url, files=electrophysiology)"
   ]
  },
  {
   "cell_type": "markdown",
   "metadata": {},
   "source": [
    "Check out your datasets with attachments using [Nexus Explorer](http://explorer.staging.nexus.ocp.bbp.epfl.ch/)"
   ]
  },
  {
   "cell_type": "markdown",
   "metadata": {},
   "source": [
    "### 5-7 Query Nexus to get all instance of type nsg:Neuron (spanning all the organizations)"
   ]
  },
  {
   "cell_type": "code",
   "execution_count": 58,
   "metadata": {},
   "outputs": [],
   "source": [
    "query_filter = {\n",
    "  \"@context\":   \"https://bbp-nexus.epfl.ch/staging/v0/contexts/neurosciencegraph/core/data/v0.1.1\",\n",
    "  \"filter\": {\n",
    "    \"op\": \"eq\",\n",
    "    \"path\": \"rdf:type\",\n",
    "    \"value\": \"nsg:Neuron\"\n",
    "  }\n",
    "}"
   ]
  },
  {
   "cell_type": "code",
   "execution_count": 60,
   "metadata": {},
   "outputs": [
    {
     "name": "stdout",
     "output_type": "stream",
     "text": [
      "The request, and all future requests should be repeated using <a href=\"https://bbp-nexus.epfl.ch/staging/v0/queries/05021dfc-dd11-4b93-bdc8-2b44657ec4d4?from=0&size=10\">this URI</a>.\n"
     ]
    }
   ],
   "source": [
    "response = requests.post(\"https://bbp-nexus.epfl.ch/staging/v0/queries\", json=query_filter, allow_redirects=False)\n",
    "print(response.text)"
   ]
  },
  {
   "cell_type": "markdown",
   "metadata": {},
   "source": [
    "## OPTIONAL \n",
    "\n",
    "### 5-8 Secure your organization by setting permissions\n",
    "\n",
    "To restrict access to your organization, you can set specific access rights. Go through the steps outlined below to set permissions on your organization:"
   ]
  },
  {
   "cell_type": "markdown",
   "metadata": {},
   "source": [
    "**Get your user reference and realm by running the following code:**"
   ]
  },
  {
   "cell_type": "code",
   "execution_count": null,
   "metadata": {},
   "outputs": [],
   "source": [
    "response = requests.get(\"https://bbp-nexus.epfl.ch/staging/v0/oauth2/user\", headers={\"Authorization\": \"Bearer {}\".format(token)})\n",
    "if response.status_code < 400:\n",
    "    response_text = yaml.load(response.text)[\"identities\"]\n",
    "    for identity in response_text:\n",
    "        if identity[\"@type\"] == \"UserRef\":\n",
    "            user_reference = identity[\"sub\"]\n",
    "            realm = identity[\"realm\"]\n",
    "else:\n",
    "     print(\"Status code: {}\".format(response.status_code))\n",
    "\n",
    "print(user_reference)\n",
    "print(realm) "
   ]
  },
  {
   "cell_type": "markdown",
   "metadata": {},
   "source": [
    "**The following payload defines the permissions you want to set for your organization:**"
   ]
  },
  {
   "cell_type": "code",
   "execution_count": null,
   "metadata": {},
   "outputs": [],
   "source": [
    "acls = {\n",
    "    \"acl\": [\n",
    "        {\n",
    "            \"permissions\": [\n",
    "            \"read\",\n",
    "            \"write\",\n",
    "            \"own\"\n",
    "            ],\n",
    "            \"identity\": {\n",
    "            \"realm\": realm,\n",
    "            \"sub\": user_reference,\n",
    "            \"@type\": \"UserRef\"\n",
    "            }\n",
    "        }\n",
    "    ]\n",
    "}"
   ]
  },
  {
   "cell_type": "markdown",
   "metadata": {},
   "source": [
    "**Use the defined acls to set permissions on your organization by running the code below:**"
   ]
  },
  {
   "cell_type": "code",
   "execution_count": null,
   "metadata": {},
   "outputs": [],
   "source": [
    "response = requests.put(your_organization.data[\"@id\"], json=acls)\n",
    "if response.status_code >= 400:\n",
    "    response_text = yaml.load(response.text)\n",
    "    print(response_text.get('code'))\n",
    "else:\n",
    "    print(\"Status code: {}\".format(response.status_code))"
   ]
  },
  {
   "cell_type": "markdown",
   "metadata": {},
   "source": [
    "**Inspect the permissions on your organization**"
   ]
  },
  {
   "cell_type": "code",
   "execution_count": null,
   "metadata": {},
   "outputs": [],
   "source": [
    "response = requests.get(\"https://bbp-nexus.epfl.ch/staging/v0/acls/kg/org1/experiment?parents=true\", headers={\"Authorization\": \"Bearer {}\".format(token)})\n",
    "if response.status_code < 400:\n",
    "    response_text = yaml.load(response.text)[\"identities\"]\n",
    "    for identity in response_text:\n",
    "        if identity[\"@type\"] == \"UserRef\":\n",
    "            user_reference = identity[\"sub\"]\n",
    "            realm = identity[\"realm\"]\n",
    "else:\n",
    "     print(\"Status code: {}\".format(response.status_code))"
   ]
  }
 ],
 "metadata": {
  "kernelspec": {
   "display_name": "Python 3",
   "language": "python",
   "name": "python3"
  },
  "language_info": {
   "codemirror_mode": {
    "name": "ipython",
    "version": 3
   },
   "file_extension": ".py",
   "mimetype": "text/x-python",
   "name": "python",
   "nbconvert_exporter": "python",
   "pygments_lexer": "ipython3",
   "version": "3.6.1"
  }
 },
 "nbformat": 4,
 "nbformat_minor": 2
}
