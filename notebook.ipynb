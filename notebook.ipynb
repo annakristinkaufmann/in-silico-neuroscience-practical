{
 "cells": [
  {
   "cell_type": "markdown",
   "metadata": {},
   "source": [
    "<a href=\"figures/Nexus_logo_800px.png\" target=\"_blank\"><img src=\"figures/Nexus_logo_800px.png\" \n",
    "width=\"270\" border=\"10\" /></a>"
   ]
  },
  {
   "cell_type": "markdown",
   "metadata": {},
   "source": [
    "# Blue Brain Nexus - A knowledge graph for data-driven science\n",
    "\n",
    "##  1 - General introduction\n",
    "\n",
    "\n",
    "### 1-1 Challenges of data management in neuroscience\n",
    "\n",
    "Neuroscience - like many other scientific fields - produces a vast amount of data. It is important to enable good data management to support scientific discovery. Some of the challenges of data management include:\n",
    "\n",
    "* Heterogeneity of data (e.g. morphology reconstructions, electrophysiology recordings, whole-brain imaging, simulations, validations)\n",
    "* Varying size of datasets (small to large)\n",
    "* Data is often stored in distributed silos (lab servers, personal computers, dropbox, google drive)\n",
    "* Data provenance is often not easily accessible (metadata kept in different spreadsheets, hand-written labbooks, not captured)\n",
    "\n",
    "&rightarrow; **Discovery of similar and related data across silos is needed but not enabled!**\n",
    "\n",
    "\n",
    "###  1-2 The FAIR Data Principles\n",
    "\n",
    "The FAIR Guiding Principles. were defined to help the scientific community in implementing good data management. The acronym stands for: **Findability, Accessibility, Interoperability, and Reusability**. They are a set of principles intended to help enhance the reusability of scientific data with specific emphasis on usability of data by both machines and humans. \n",
    "\n",
    "* FAIR Data Principles: https://www.nature.com/articles/sdata201618\n",
    "\n",
    "###  1-3 What is Nexus and how does it address the outlined challenges in data management?\n",
    "\n",
    "#### Nexus is\n",
    "\n",
    "* A data repository\n",
    "* A metadata catalog\n",
    "* A semantic search engine\n",
    "\n",
    "It treats **provenance** as first class citizen, supports **ontologies** and is **agnostic of the domain** of application. It was further built to handle **large amounts of data**.\n",
    "\n",
    "\n",
    "\n",
    "\n",
    "\n",
    "\n",
    "\n",
    "\n",
    "\n",
    "\n",
    "\n",
    "\n",
    "\n",
    "\n",
    "he Nexus KnowledgeGraph operates on **4 types** of resources: **Organizations, Domains, Schemas** and **Instances**, nested as described in the diagram below. For the use case described in this notebook, we will look at data stored under the **bbp** organization being part of the domains **experiment, electrophysiology** and **morphology**. \n",
    "\n",
    "<a href=\"figures/nexus-kg-resources.png\" target=\"_blank\"><img src=\"figures/nexus-kg-resources.png\" \n",
    "width=\"700\" border=\"10\" /></a>\n",
    "\n",
    "\n",
    "The Nexus KnowledgeGraph exposes a RESTful interface over HTTP(S). The generally adopted transport format is **JSON-LD**. All resources in the system generally follow the very same lifecycle (see diagram below). Changes to the data (creation, updates, state changes) are recorded into the system as **revisions**.\n",
    "\n",
    "\n",
    "<a href=\"figures/nexus-kg-resource-lifecycle.png\" target=\"_blank\"><img src=\"figures/nexus-kg-resource-lifecycle.png\" \n",
    "width=\"700\" border=\"10\" /></a>\n",
    "\n",
    "\n",
    "#### KnowledgeGraph\n",
    "\n",
    "* Concept of entities (metadata and raw data)\n",
    "* store the relations between entities (e.g. provenance)\n",
    "* make that data searchabl\n",
    "\n",
    "#### Provenance\n",
    "\n",
    "\n",
    "\n",
    "## Ressources\n",
    "\n",
    "* Nexus on Github: https://github.com/BlueBrain/nexus\n",
    "* Nexus in media: \n",
    "    * https://www.technologynetworks.com/informatics/articles/neuroinformatics-and-the-blue-brain-project-part-1-295850\n",
    "    * https://www.technologynetworks.com/informatics/articles/building-the-blue-brain-nexus-295851\n",
    "    * https://actu.epfl.ch/news/blue-brain-nexus-an-open-source-tool-for-data-driv/\n",
    "* Nexus landing page: http://nexus.apps.bbp.epfl.ch/dev/home/ (navigate to ontoDocs and explorer)\n",
    "\n",
    "\n",
    "## Objectives of practical:\n",
    "\n",
    "* Learn about challenges in scientific data management\n",
    "* Learn about Blue Brain Nexus\n",
    "* Use Nexus to\n",
    "    * Define entities\n",
    "    * Relate them through provenance\n",
    "    * Create entities to grow the knowledge graph\n",
    "    * Attach raw data to entities and manage the revisions\n",
    "    * Traverse the knowledge graph to find relevant data\n",
    "\n",
    "* TODO: Show graphics with different steps of lifecycle\n",
    "\n",
    "## Use case\n",
    "\n",
    "Brian is a computational neuroscientist working with single cell models of the somatosensory cortex. His model is based on experimental data collected by Maria, an experimental neuroscientist using in vitro whole-cell patch clamp recording techniques for her research. To refine his model, Brian wants to include one more cell from the dataset Maria had collected into his model. He wants to use both the morphology reconstruction of the cell as well as the recorded traces. Both Maria and Brian happen to be at the same scientific conference and Maria remembers one particular cell that would fit Brian's needs. She quickly scribbles down the ID she had given that cell: C060600A2-MT-C1. Using the provided ID, Brian wants to retrieve all the recorded traces from that cell as well as the morphology reconstruction to include in his model.    \n",
    "\n",
    "**For a specific patched cell, retrieve the corresponding reconstructed cell alongside with all the traces that were recorded from that patched cell.**\n",
    "\n",
    "\n",
    "## Define your entities, relate them through provenance, share your domain\n",
    "\n",
    "The below image shows the (provenance) **graph** for **data types** of in vitro single cell electrophysiology and morphology data. It includes **entities** of the data as well as **activities** which generated the entities, **agents** associated with the activities and **protocols** involved in their generation. Bold arrowheads highlight entities of relevance to the use case outlined above.\n",
    "\n",
    "<a href=\"figures/full-provenance-template.png\" target=\"_blank\"><img src=\"figures/full-provenance-template.png\" \n",
    "width=\"1000\" border=\"10\" /></a>\n",
    "\n",
    "* TODO: include prov pattern for electrophysiology and morphology\n",
    "\n",
    "## Create and link entities to grow your knowledge graph\n",
    "\n",
    "## Attach raw data to your entities and manage data revisions\n",
    "\n",
    "## Traverse the knowledge graph to find relevant data and discover\n",
    "\n",
    "\n",
    "\n"
   ]
  },
  {
   "cell_type": "markdown",
   "metadata": {},
   "source": [
    "\n",
    "## Nexus API interactions\n",
    "----------------\n",
    "\n",
    "----------------\n",
    "\n",
    "### Introduction \n"
   ]
  },
  {
   "cell_type": "markdown",
   "metadata": {},
   "source": [
    "### (1) Create an organization and a domain\n",
    "\n",
    "New organizations and new domains on Nexus can be created using a PUT request."
   ]
  },
  {
   "cell_type": "code",
   "execution_count": null,
   "metadata": {},
   "outputs": [],
   "source": [
    "!pip install requests pyyaml pygments"
   ]
  },
  {
   "cell_type": "code",
   "execution_count": 2,
   "metadata": {},
   "outputs": [],
   "source": [
    "import json\n",
    "import requests\n",
    "import yaml\n",
    "from pygments import highlight\n",
    "from pygments.lexers import JsonLdLexer\n",
    "from pygments.formatters import TerminalFormatter"
   ]
  },
  {
   "cell_type": "code",
   "execution_count": 3,
   "metadata": {},
   "outputs": [],
   "source": [
    "def pprint(string):\n",
    "    json_obj = json.loads(string)\n",
    "    json_str = json.dumps(json_obj, indent=2)\n",
    "    lexer = JsonLdLexer()\n",
    "    print(highlight(json_str, lexer, TerminalFormatter()))"
   ]
  },
  {
   "cell_type": "markdown",
   "metadata": {},
   "source": [
    "Below, the the organization and the domain to be created can be specified and then created:"
   ]
  },
  {
   "cell_type": "code",
   "execution_count": 1,
   "metadata": {},
   "outputs": [
    {
     "name": "stdout",
     "output_type": "stream",
     "text": [
      "a\n",
      "b\n"
     ]
    }
   ],
   "source": [
    "organization = input()\n",
    "domain = input()"
   ]
  },
  {
   "cell_type": "code",
   "execution_count": null,
   "metadata": {},
   "outputs": [],
   "source": [
    "url_org  = 'https://bbp-nexus.epfl.ch/dev/v0/organizations/{}'.format(organization)\n",
    "description = {\"description\": \"A description of the organization\"}\n",
    "\n",
    "response = requests.put(url_org, json=description)\n",
    "if response.status_code >= 400:\n",
    "    response_text = yaml.load(response.text)\n",
    "    print(\"The organization could not be created because\", response_text.get('code'))\n",
    "else:\n",
    "    response_text = yaml.load(response.text)\n",
    "    print(response_text.get(\"@id\"))"
   ]
  },
  {
   "cell_type": "code",
   "execution_count": null,
   "metadata": {},
   "outputs": [],
   "source": [
    "url_domain  = 'https://bbp-nexus.epfl.ch/dev/v0/domains/{}/{}'.format(organization, domain)\n",
    "description = {\"description\": \"A description of the domain\"}\n",
    "\n",
    "response = requests.put(url_domain, json=description)\n",
    "if response.status_code > 400:\n",
    "    response_text = yaml.load(response.text)\n",
    "    print(\"The domain could not be created because\", response_text.get('code'))\n",
    "else:\n",
    "    response_text = yaml.load(response.text)\n",
    "    print(response_text.get(\"@id\"))"
   ]
  },
  {
   "cell_type": "markdown",
   "metadata": {},
   "source": [
    "### (2) List existing schemas and load a schema into Nexus under a specified organization and domain\n",
    "\n",
    "A listing of all the existing schemas in Nexus can be performed using the following endpoint:\n",
    "\n",
    "https://bbp-nexus.epfl.ch/dev/v0/schemas\n",
    "\n",
    "A new schema can be created using a PUT request. Following its creation, a schema needs to be published using a PATCH request before being able to validate instances against it:"
   ]
  },
  {
   "cell_type": "code",
   "execution_count": null,
   "metadata": {},
   "outputs": [],
   "source": [
    "url  = 'https://bbp-nexus.epfl.ch/dev/v0/schemas/{}/{}/patchedcell/v0.1.0'.format(organization, domain)\n",
    "filename = 'patchedcell_schema.json'\n",
    "url_publish = \"{}/config?rev=1\".format(url)\n",
    "published = {\"published\": True}\n",
    "\n",
    "with open(filename) as json_file:\n",
    "    schema = json.load(json_file)\n",
    "response = requests.put(url, json=schema)\n",
    "if response.status_code > 400:\n",
    "    response_text = yaml.load(response.text)\n",
    "    print(\"The schema could not be created because\", response_text.get(\"code\"))\n",
    "else:\n",
    "    response = requests.patch(url_publish, json=published)\n",
    "    response_text = yaml.load(response.text)\n",
    "    print(response_text.get(\"@id\"))"
   ]
  },
  {
   "cell_type": "markdown",
   "metadata": {},
   "source": [
    "\n",
    "### (3) Post the reconstructed cell C060600A2_idA2\n",
    "----------------\n",
    "\n",
    "Metadata for the reconstructed cell C060600A2_idA2 (serialized as <a href=\"https://www.youtube.com/watch?v=vioCbTo3C-4\" target=\"_blank\">JSON-LD</a>) will be posted to the Blue Brain Nexus platform for validation against the **schema for a reconstructed cell** (https://bbp-nexus.epfl.ch/dev/v0/schemas/bbp/morphology/reconstructedcell/v0.1.0)."
   ]
  },
  {
   "cell_type": "code",
   "execution_count": null,
   "metadata": {},
   "outputs": [],
   "source": [
    "url = 'https://bbp-nexus.epfl.ch/dev/v0/data/bbp/morphology/reconstructedcell/v0.1.0'\n",
    "filename = 'C060600A2_idA2.json'\n",
    "with open(filename) as json_file:\n",
    "    C060600A2_idA2 = json.load(json_file)\n",
    "response = requests.post(url, json=C060600A2_idA2)\n",
    "jsonld = yaml.load(response.text)\n",
    "nexus_id = jsonld.get(\"@id\")\n",
    "print('The reconstructed cell has the following identifier on Nexus', nexus_id)"
   ]
  },
  {
   "cell_type": "markdown",
   "metadata": {},
   "source": [
    "### (4) Attach the morphology binary to cell C060600A2_idA2\n",
    "----------------\n",
    "\n",
    "The morphology for the reconstructed cell C060600A2_idA2 will be attached to the metadata just posted to Nexus."
   ]
  },
  {
   "cell_type": "code",
   "execution_count": null,
   "metadata": {},
   "outputs": [],
   "source": [
    "filename = 'C060600A2_idA2.ASC'\n",
    "\n",
    "url = nexus_id + \"/attachment?rev=1\"\n",
    "morphology = {'file': open(filename, 'rb')}\n",
    "response = requests.put(url, files=morphology)\n",
    "print(nexus_id)"
   ]
  },
  {
   "cell_type": "markdown",
   "metadata": {},
   "source": [
    "### (5) Correct the name of cell C060600A2_idA2\n",
    "----------------\n",
    "\n",
    "In the above posted metadata, we spotted a typo in the name: Instead of C060600A2_idB2, it should be C060600A2_idA2. To correct this typo, we can update the metadata, resulting in a **new revision** of that instance: "
   ]
  },
  {
   "cell_type": "code",
   "execution_count": null,
   "metadata": {},
   "outputs": [],
   "source": [
    "C060600A2_idA2 = yaml.load(requests.get(nexus_id).text)\n",
    "C060600A2_idA2.update({'name': 'C060600A2_idA2'})\n",
    "url = \"{}?rev={}\".format(nexus_id, C060600A2_idA2[\"nxv:rev\"])\n",
    "del C060600A2_idA2[\"nxv:rev\"]\n",
    "del C060600A2_idA2[\"nxv:deprecated\"]\n",
    "del C060600A2_idA2[\"links\"]\n",
    "del C060600A2_idA2[\"distribution\"]\n",
    "response = requests.put(url, json=C060600A2_idA2)\n",
    "print(nexus_id)"
   ]
  },
  {
   "cell_type": "markdown",
   "metadata": {},
   "source": [
    "### (6) USE CASE\n",
    "\n",
    "----------------\n",
    "\n",
    "The following sections demonstrate the use case outlined above. The use case includes the retrieval of all traces recorded from the patched cell with the provider ID C060600A2-MT-C1 as well as the corresponding reconstructed cell."
   ]
  },
  {
   "cell_type": "markdown",
   "metadata": {},
   "source": [
    "##### For the patched cell with the provider ID C060600A2-MT-C1, retrieve all corresponding traces\n",
    "\n",
    "<a href=\"figures/get_traces.png\" target=\"_blank\"><img src=\"figures/get_traces.png\" \n",
    "width=\"480\" border=\"10\" /></a>"
   ]
  },
  {
   "cell_type": "markdown",
   "metadata": {},
   "source": [
    "The following filter needs to be applied to retrieve all traces recorded from the specified patched cell. The value of the filter specifies to filter for every instance of type Trace that connects through graph traversal to the patched cell with the provider ID C060600A2-MT-C1."
   ]
  },
  {
   "cell_type": "code",
   "execution_count": 5,
   "metadata": {
    "scrolled": true
   },
   "outputs": [
    {
     "name": "stdout",
     "output_type": "stream",
     "text": [
      "{\n",
      "  \u001b[30;01m\"@context\"\u001b[39;49;00m: {\n",
      "    \u001b[34;01m\"rdf\"\u001b[39;49;00m: \u001b[33m\"http://www.w3.org/1999/02/22-rdf-syntax-ns#\"\u001b[39;49;00m,\n",
      "    \u001b[34;01m\"nsg\"\u001b[39;49;00m: \u001b[33m\"https://bbp-nexus.epfl.ch/vocabs/bbp/neurosciencegraph/core/v0.1.0/\"\u001b[39;49;00m,\n",
      "    \u001b[34;01m\"prov\"\u001b[39;49;00m: \u001b[33m\"http://www.w3.org/ns/prov#\"\u001b[39;49;00m\n",
      "  },\n",
      "  \u001b[34;01m\"filter\"\u001b[39;49;00m: {\n",
      "    \u001b[34;01m\"op\"\u001b[39;49;00m: \u001b[33m\"and\"\u001b[39;49;00m,\n",
      "    \u001b[34;01m\"value\"\u001b[39;49;00m: [\n",
      "      {\n",
      "        \u001b[34;01m\"path\"\u001b[39;49;00m: \u001b[33m\"rdf:type\"\u001b[39;49;00m,\n",
      "        \u001b[34;01m\"op\"\u001b[39;49;00m: \u001b[33m\"eq\"\u001b[39;49;00m,\n",
      "        \u001b[34;01m\"value\"\u001b[39;49;00m: \u001b[33m\"nsg:Trace\"\u001b[39;49;00m\n",
      "      },\n",
      "      {\n",
      "        \u001b[34;01m\"path\"\u001b[39;49;00m: \u001b[33m\"prov:wasGeneratedBy / prov:used / nsg:providerId\"\u001b[39;49;00m,\n",
      "        \u001b[34;01m\"op\"\u001b[39;49;00m: \u001b[33m\"eq\"\u001b[39;49;00m,\n",
      "        \u001b[34;01m\"value\"\u001b[39;49;00m: \u001b[33m\"C060600A2-MT-C1\"\u001b[39;49;00m\n",
      "      }\n",
      "    ]\n",
      "  }\n",
      "}\n",
      "\n"
     ]
    }
   ],
   "source": [
    "pprint(\"\"\"{\"@context\": {\"rdf\": \"http://www.w3.org/1999/02/22-rdf-syntax-ns#\",\"nsg\" : \"https://bbp-nexus.epfl.ch/vocabs/bbp/neurosciencegraph/core/v0.1.0/\",\"prov\": \"http://www.w3.org/ns/prov#\"\n",
    "  },\"filter\": {\"op\": \"and\",\"value\": [{\"path\": \"rdf:type\",\"op\": \"eq\",\"value\": \"nsg:Trace\"}, {\"path\": \"prhttps://bbp-nexus.epfl.ch/dev/v0/data/bbp/electrophysiology?filter=%7B%0A%20%20%22%40context%22%3A%20%7B%0A%20%20%20%20%22rdf%22%3A%20%22http%3A%2F%2Fwww.w3.org%2F1999%2F02%2F22-rdf-syntax-ns%23%22%2C%0A%20%20%20%20%22nsg%22%20%3A%20%22https%3A%2F%2Fbbp-nexus.epfl.ch%2Fvocabs%2Fbbp%2Fneurosciencegraph%2Fcore%2Fv0.1.0%2F%22%2C%0A%20%20%20%20%22prov%22%3A%20%22http%3A%2F%2Fwww.w3.org%2Fns%2Fprov%23%22%2C%0A%20%20%20%20%22schema%22%3A%20%22http%3A%2F%2Fschema.org%2F%22%0A%20%20%7D%2C%0A%20%20%22filter%22%3A%0A%20%20%7B%0A%20%20%20%20%22op%22%3A%20%22and%22%2C%0A%20%20%20%20%22value%22%3A%20%5B%0A%20%20%20%20%20%20%7B%0A%20%20%20%20%20%20%20%20%22op%22%3A%20%22eq%22%2C%0A%20%20%20%20%20%20%20%20%22path%22%3A%20%22rdf%3Atype%22%2C%0A%20%20%20%20%20%20%20%20%22value%22%3A%20%22nsg%3ATrace%22%0A%20%20%20%20%20%20%7D%2C%0A%20%20%20%20%20%20%7B%0A%20%20%20%20%20%20%20%20%22op%22%3A%20%22eq%22%2C%0A%20%20%20%20%20%20%20%20%22path%22%3A%20%22prov%3AwasGeneratedBy%20%2F%20prov%3Aused%20%2F%20nsg%3AproviderId%22%2C%0A%20%20%20%20%20%20%20%20%22value%22%3A%20%22C060600A2-MT-C1%22%0A%0A%20%20%20%20%20%7D%0A%20%20%20%20%5D%0A%20%20%7D%0A%7Dov:wasGeneratedBy / prov:used / nsg:providerId\",\"op\": \"eq\",\"value\": \"C060600A2-MT-C1\"}]}}\"\"\")"
   ]
  },
  {
   "cell_type": "markdown",
   "metadata": {},
   "source": [
    "https://bbp-nexus.epfl.ch/dev/v0/data/bbp/electrophysiology?filter=%7B%0A%20%20%22%40context%22%3A%20%7B%0A%20%20%20%20%22rdf%22%3A%20%22http%3A%2F%2Fwww.w3.org%2F1999%2F02%2F22-rdf-syntax-ns%23%22%2C%0A%20%20%20%20%22nsg%22%20%3A%20%22https%3A%2F%2Fbbp-nexus.epfl.ch%2Fvocabs%2Fbbp%2Fneurosciencegraph%2Fcore%2Fv0.1.0%2F%22%2C%0A%20%20%20%20%22prov%22%3A%20%22http%3A%2F%2Fwww.w3.org%2Fns%2Fprov%23%22%2C%0A%20%20%20%20%22schema%22%3A%20%22http%3A%2F%2Fschema.org%2F%22%0A%20%20%7D%2C%0A%20%20%22filter%22%3A%0A%20%20%7B%0A%20%20%20%20%22op%22%3A%20%22and%22%2C%0A%20%20%20%20%22value%22%3A%20%5B%0A%20%20%20%20%20%20%7B%0A%20%20%20%20%20%20%20%20%22op%22%3A%20%22eq%22%2C%0A%20%20%20%20%20%20%20%20%22path%22%3A%20%22rdf%3Atype%22%2C%0A%20%20%20%20%20%20%20%20%22value%22%3A%20%22nsg%3ATrace%22%0A%20%20%20%20%20%20%7D%2C%0A%20%20%20%20%20%20%7B%0A%20%20%20%20%20%20%20%20%22op%22%3A%20%22eq%22%2C%0A%20%20%20%20%20%20%20%20%22path%22%3A%20%22prov%3AwasGeneratedBy%20%2F%20prov%3Aused%20%2F%20nsg%3AproviderId%22%2C%0A%20%20%20%20%20%20%20%20%22value%22%3A%20%22C060600A2-MT-C1%22%0A%0A%20%20%20%20%20%7D%0A%20%20%20%20%5D%0A%20%20%7D%0A%7D"
   ]
  },
  {
   "cell_type": "markdown",
   "metadata": {},
   "source": [
    "##### For the patched cell with the provider ID C060600A2-MT-C1, retrieve the corresponding morphology\n",
    "\n",
    "<a href=\"figures/get_reconstructedcell.png\" target=\"_blank\"><img src=\"figures/get_reconstructedcell.png\" \n",
    "width=\"480\" border=\"10\" /></a>\n",
    "\n",
    "The following filter needs to be applied to retrieve the reconstructed cell for the specified patched cell:"
   ]
  },
  {
   "cell_type": "code",
   "execution_count": 1,
   "metadata": {},
   "outputs": [
    {
     "ename": "NameError",
     "evalue": "name 'pprint' is not defined",
     "output_type": "error",
     "traceback": [
      "\u001b[0;31m---------------------------------------------------------------------------\u001b[0m",
      "\u001b[0;31mNameError\u001b[0m                                 Traceback (most recent call last)",
      "\u001b[0;32m<ipython-input-1-aa3e84ae5fc1>\u001b[0m in \u001b[0;36m<module>\u001b[0;34m()\u001b[0m\n\u001b[0;32m----> 1\u001b[0;31m pprint(\"\"\"{\"@context\": {\"rdf\": \"http://www.w3.org/1999/02/22-rdf-syntax-ns#\",\"nsg\" : \"https://bbp-nexus.epfl.ch/vocabs/bbp/neurosciencegraph/core/v0.1.0/\",\"prov\": \"http://www.w3.org/ns/prov#\"\n\u001b[0m\u001b[1;32m      2\u001b[0m   },\"filter\": {\"op\": \"and\",\"value\": [{\"path\": \"rdf:type\",\"op\": \"eq\",\"value\": \"nsg:ReconstructedCell\"}, {\"path\": \"^prov:generated / prov:used / prov:wasRevisionOf / nsg:providerId\",\"op\": \"eq\",\"value\": \"C060600A2-MT-C1\"}]}}\"\"\")\n",
      "\u001b[0;31mNameError\u001b[0m: name 'pprint' is not defined"
     ]
    }
   ],
   "source": [
    "pprint(\"\"\"{\"@context\": {\"rdf\": \"http://www.w3.org/1999/02/22-rdf-syntax-ns#\",\"nsg\" : \"https://bbp-nexus.epfl.ch/vocabs/bbp/neurosciencegraph/core/v0.1.0/\",\"prov\": \"http://www.w3.org/ns/prov#\"\n",
    "  },\"filter\": {\"op\": \"and\",\"value\": [{\"path\": \"rdf:type\",\"op\": \"eq\",\"value\": \"nsg:ReconstructedCell\"}, {\"path\": \"^prov:generated / prov:used / prov:wasRevisionOf / nsg:providerId\",\"op\": \"eq\",\"value\": \"C060600A2-MT-C1\"}]}}\"\"\")"
   ]
  },
  {
   "cell_type": "markdown",
   "metadata": {},
   "source": [
    "https://bbp-nexus.epfl.ch/dev/v0/data/bbp?filter=%7B%0A%20%20%22%40context%22%3A%20%7B%0A%20%20%20%20%22rdf%22%3A%20%22http%3A%2F%2Fwww.w3.org%2F1999%2F02%2F22-rdf-syntax-ns%23%22%2C%0A%20%20%20%20%22nsg%22%20%3A%20%22https%3A%2F%2Fbbp-nexus.epfl.ch%2Fvocabs%2Fbbp%2Fneurosciencegraph%2Fcore%2Fv0.1.0%2F%22%2C%0A%20%20%20%20%22prov%22%3A%20%22http%3A%2F%2Fwww.w3.org%2Fns%2Fprov%23%22%0A%20%20%7D%2C%0A%20%20%22filter%22%3A%0A%20%20%7B%0A%20%20%20%20%22op%22%3A%20%22and%22%2C%0A%20%20%20%20%22value%22%3A%20%5B%0A%20%20%20%20%20%20%7B%0A%20%20%20%20%20%20%20%20%22op%22%3A%20%22eq%22%2C%0A%20%20%20%20%20%20%20%20%22path%22%3A%20%22rdf%3Atype%22%2C%0A%20%20%20%20%20%20%20%20%22value%22%3A%20%22nsg%3AReconstructedCell%22%0A%20%20%20%20%20%20%7D%2C%0A%20%20%20%20%20%20%7B%0A%20%20%20%20%20%20%20%20%22op%22%3A%20%22eq%22%2C%0A%20%20%20%20%20%20%20%20%22path%22%3A%20%22%5Eprov%3Agenerated%2Fprov%3Aused%2Fprov%3AwasRevisionOf%20%2F%20nsg%3AproviderId%22%2C%0A%20%20%20%20%20%20%20%20%22value%22%3A%20%22C060600A2-MT-C1%22%0A%0A%20%20%20%20%20%20%7D%0A%20%20%20%20%5D%0A%20%20%7D%0A%7D%0A"
   ]
  }
 ],
 "metadata": {
  "kernelspec": {
   "display_name": "Python 3",
   "language": "python",
   "name": "python3"
  },
  "language_info": {
   "codemirror_mode": {
    "name": "ipython",
    "version": 3
   },
   "file_extension": ".py",
   "mimetype": "text/x-python",
   "name": "python",
   "nbconvert_exporter": "python",
   "pygments_lexer": "ipython3",
   "version": "3.6.1"
  }
 },
 "nbformat": 4,
 "nbformat_minor": 2
}
